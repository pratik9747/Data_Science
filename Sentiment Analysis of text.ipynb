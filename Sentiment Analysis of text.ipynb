{
 "cells": [
  {
   "cell_type": "markdown",
   "id": "04e09fde",
   "metadata": {},
   "source": [
    "## SENTIMENT ANALYSIS"
   ]
  },
  {
   "cell_type": "markdown",
   "id": "b0e0518a",
   "metadata": {},
   "source": [
    "### IMPORTING NECESSARY LIBRARIES"
   ]
  },
  {
   "cell_type": "code",
   "execution_count": 160,
   "id": "7779b593",
   "metadata": {},
   "outputs": [],
   "source": [
    "import requests\n",
    "import gensim\n",
    "from bs4 import BeautifulSoup\n",
    "from nltk.sentiment.vader import SentimentIntensityAnalyzer\n",
    "from nltk.tokenize import sent_tokenize\n"
   ]
  },
  {
   "cell_type": "markdown",
   "id": "2df9f414",
   "metadata": {},
   "source": [
    "### Step 1: Web Scrapping"
   ]
  },
  {
   "cell_type": "code",
   "execution_count": 173,
   "id": "d59b97f3",
   "metadata": {},
   "outputs": [],
   "source": [
    "url = 'https://www.dw.com/en/india-manipur-media-violence/a-66473187'\n",
    "response = requests.get(url)\n",
    "soup = BeautifulSoup(response.text, 'html.parser')\n",
    "paragraphs = soup.find_all('p')"
   ]
  },
  {
   "cell_type": "markdown",
   "id": "25b88f0b",
   "metadata": {},
   "source": [
    "### Step 2: Combine paragraphs into a single text"
   ]
  },
  {
   "cell_type": "code",
   "execution_count": 174,
   "id": "563a6090",
   "metadata": {},
   "outputs": [],
   "source": [
    "document = ' '.join([p.get_text() for p in paragraphs])"
   ]
  },
  {
   "cell_type": "markdown",
   "id": "40e9fbef",
   "metadata": {},
   "source": [
    "### Step 3: Sentiment Analysis"
   ]
  },
  {
   "cell_type": "code",
   "execution_count": 175,
   "id": "6190b5c8",
   "metadata": {},
   "outputs": [],
   "source": [
    "sid = SentimentIntensityAnalyzer()\n",
    "sentiment_scores = sid.polarity_scores(document)"
   ]
  },
  {
   "cell_type": "markdown",
   "id": "8a00305f",
   "metadata": {},
   "source": [
    "#### Determining the sentiments based on the sentiment_scores "
   ]
  },
  {
   "cell_type": "code",
   "execution_count": 176,
   "id": "02227e25",
   "metadata": {},
   "outputs": [
    {
     "name": "stdout",
     "output_type": "stream",
     "text": [
      "Sentiment: Negative\n",
      "Sentiment Scores: {'neg': 0.134, 'neu': 0.779, 'pos': 0.087, 'compound': -0.9936}\n"
     ]
    }
   ],
   "source": [
    "\n",
    "if sentiment_scores['compound'] >= 0.05:\n",
    "    sentiment = 'Positive'\n",
    "elif sentiment_scores['compound'] <= -0.05:\n",
    "    sentiment = 'Negative'\n",
    "else:\n",
    "    sentiment = 'Neutral'\n",
    "\n",
    "print(f\"Sentiment: {sentiment}\")\n",
    "print(f\"Sentiment Scores: {sentiment_scores}\")\n",
    "\n"
   ]
  },
  {
   "cell_type": "markdown",
   "id": "0a3c0bb9",
   "metadata": {},
   "source": [
    "### Step 4: Text Summarization"
   ]
  },
  {
   "cell_type": "code",
   "execution_count": 177,
   "id": "17276c62",
   "metadata": {},
   "outputs": [
    {
     "name": "stderr",
     "output_type": "stream",
     "text": [
      "[nltk_data] Downloading package punkt to\n",
      "[nltk_data]     C:\\Users\\ppk7s\\AppData\\Roaming\\nltk_data...\n",
      "[nltk_data]   Package punkt is already up-to-date!\n",
      "[nltk_data] Downloading package stopwords to\n",
      "[nltk_data]     C:\\Users\\ppk7s\\AppData\\Roaming\\nltk_data...\n",
      "[nltk_data]   Package stopwords is already up-to-date!\n"
     ]
    }
   ],
   "source": [
    "import nltk\n",
    "from nltk.corpus import stopwords\n",
    "from nltk.tokenize import word_tokenize, sent_tokenize\n",
    "from nltk.probability import FreqDist\n",
    "\n",
    "# Download NLTK resources (if not already downloaded)\n",
    "nltk.download('punkt')\n",
    "nltk.download('stopwords')\n",
    "\n",
    "def custom_summarize(document, num_sentences=2):\n",
    "    # Tokenize the document into words and sentences\n",
    "    words = word_tokenize(document)\n",
    "    sentences = sent_tokenize(document)\n",
    "\n",
    "    # Remove stopwords and punctuation\n",
    "    stop_words = set(stopwords.words('english'))\n",
    "    filtered_words = [word.lower() for word in words if word.isalnum() and word.lower() not in stop_words]\n",
    "\n",
    "    # Calculate word frequencies\n",
    "    word_freq = FreqDist(filtered_words)\n",
    "\n",
    "    # Calculate sentence scores based on word frequencies\n",
    "    sentence_scores = {}\n",
    "    for sentence in sentences:\n",
    "        for word in word_tokenize(sentence.lower()):\n",
    "            if word in word_freq:\n",
    "                if sentence not in sentence_scores:\n",
    "                    sentence_scores[sentence] = word_freq[word]\n",
    "                else:\n",
    "                    sentence_scores[sentence] += word_freq[word]\n",
    "\n",
    "    # Choose the top N sentences as the summary (adjust N as needed)\n",
    "    summary_sentences = sorted(sentence_scores, key=sentence_scores.get, reverse=True)[:num_sentences]\n",
    "\n",
    "    # Create the summary\n",
    "    summary = ' '.join(summary_sentences)\n",
    "\n",
    "    return summary\n",
    "\n",
    "def custom_keywords(document, num_keywords=15):\n",
    "    # Tokenize the document into words\n",
    "    words = word_tokenize(document)\n",
    "\n",
    "    # Remove stopwords and punctuation\n",
    "    stop_words = set(stopwords.words('english'))\n",
    "    filtered_words = [word.lower() for word in words if word.isalnum() and word.lower() not in stop_words]\n",
    "\n",
    "    # Calculate word frequencies\n",
    "    word_freq = FreqDist(filtered_words)\n",
    "\n",
    "    # Choose the top N keywords (adjust N as needed)\n",
    "    keywords = [word for word, freq in word_freq.most_common(num_keywords)]\n",
    "\n",
    "    return keywords"
   ]
  },
  {
   "cell_type": "markdown",
   "id": "1eef8474",
   "metadata": {},
   "source": [
    "### Step 5: Extract Keywords"
   ]
  },
  {
   "cell_type": "code",
   "execution_count": 178,
   "id": "4936743f",
   "metadata": {
    "scrolled": true
   },
   "outputs": [
    {
     "name": "stdout",
     "output_type": "stream",
     "text": [
      "Summary:\n",
      "An internet shutdown along with a deepening divide among Meitei and Kuki communities in India's Manipur state have led to skewed news coverage, misinformation and journalists walking on eggshells. To view this video please enable JavaScript, and consider upgrading to a web browser that supports HTML5 video \"In many ways, the media hasn't really understood the situation — its triggers and the political aspects as well as the broader national security implications,\" Rajkumari added.\n",
      "\n",
      "Keywords:\n",
      "['news', 'manipur', 'journalists', 'internet', 'dw', 'imphal', 'meitei', 'kuki', 'media', 'video', 'valley', 'violence', 'told', 'hills', 'press']\n"
     ]
    }
   ],
   "source": [
    "# Summarize the document (specify the number of sentences for the summary)\n",
    "summary = custom_summarize(document, num_sentences=2)\n",
    "\n",
    "# Extract keywords from the document (specify the number of keywords)\n",
    "keywords = custom_keywords(document, num_keywords=15)\n",
    "\n",
    "# Print the summary and keywords\n",
    "print(\"Summary:\")\n",
    "print(summary)\n",
    "\n",
    "print(\"\\nKeywords:\")\n",
    "print(keywords)\n"
   ]
  },
  {
   "cell_type": "code",
   "execution_count": 179,
   "id": "4e53dd69",
   "metadata": {},
   "outputs": [
    {
     "name": "stdout",
     "output_type": "stream",
     "text": [
      "\n",
      "Text Summary:\n",
      "An internet shutdown along with a deepening divide among Meitei and Kuki communities in India's Manipur state have led to skewed news coverage, misinformation and journalists walking on eggshells. To view this video please enable JavaScript, and consider upgrading to a web browser that supports HTML5 video \"In many ways, the media hasn't really understood the situation — its triggers and the political aspects as well as the broader national security implications,\" Rajkumari added.\n",
      "\n",
      "Keywords:\n",
      "['news', 'manipur', 'journalists', 'internet', 'dw', 'imphal', 'meitei', 'kuki', 'media', 'video', 'valley', 'violence', 'told', 'hills', 'press']\n"
     ]
    }
   ],
   "source": [
    "print(\"\\nText Summary:\")\n",
    "print(summary)\n",
    "\n",
    "print(\"\\nKeywords:\")\n",
    "print(keywords)"
   ]
  },
  {
   "cell_type": "code",
   "execution_count": null,
   "id": "411f648f",
   "metadata": {},
   "outputs": [],
   "source": []
  },
  {
   "cell_type": "code",
   "execution_count": 180,
   "id": "d24078e2",
   "metadata": {},
   "outputs": [],
   "source": [
    "import matplotlib.pyplot as plt"
   ]
  },
  {
   "cell_type": "code",
   "execution_count": 181,
   "id": "259b4407",
   "metadata": {},
   "outputs": [],
   "source": [
    "keyword_freq = nltk.FreqDist(keywords)\n",
    "top_n_keywords = keyword_freq.most_common(10)  "
   ]
  },
  {
   "cell_type": "code",
   "execution_count": 182,
   "id": "347253d0",
   "metadata": {},
   "outputs": [],
   "source": [
    "# Extracting the keywords and their frequencies\n",
    "keywords, frequencies = zip(*top_n_keywords)"
   ]
  },
  {
   "cell_type": "code",
   "execution_count": 183,
   "id": "53583bcd",
   "metadata": {},
   "outputs": [
    {
     "data": {
      "image/png": "[encoded data removed]",
      "text/plain": [
       "<Figure size 1000x600 with 1 Axes>"
      ]
     },
     "metadata": {},
     "output_type": "display_data"
    }
   ],
   "source": [
    "plt.figure(figsize=(10, 6))\n",
    "plt.barh(keywords, frequencies)\n",
    "plt.xlabel('Frequency')\n",
    "plt.ylabel('Keywords')\n",
    "plt.title('Top Keywords in the Document')\n",
    "plt.gca().invert_yaxis()\n",
    "plt.show()\n"
   ]
  },
  {
   "cell_type": "code",
   "execution_count": null,
   "id": "41c41a47",
   "metadata": {},
   "outputs": [],
   "source": []
  },
  {
   "cell_type": "code",
   "execution_count": null,
   "id": "91679e8c",
   "metadata": {},
   "outputs": [],
   "source": []
  },
  {
   "cell_type": "code",
   "execution_count": 184,
   "id": "06059557",
   "metadata": {},
   "outputs": [
    {
     "data": {
      "image/png": "[encoded data removed]",
      "text/plain": [
       "<Figure size 600x600 with 1 Axes>"
      ]
     },
     "metadata": {},
     "output_type": "display_data"
    }
   ],
   "source": [
    "labels = ['Positive', 'Neutral', 'Negative']\n",
    "sizes = [sentiment_scores['pos'], sentiment_scores['neu'], sentiment_scores['neg']]\n",
    "colors = ['green', 'gray', 'red']\n",
    "explode = (0.1, 0, 0)  # Explode the 1st slice (Positive)\n",
    "\n",
    "plt.figure(figsize=(6, 6))\n",
    "plt.pie(sizes, explode=explode, labels=labels, colors=colors, autopct='%1.1f%%', shadow=True, startangle=140)\n",
    "plt.title('Sentiment Analysis')\n",
    "plt.axis('equal')  # Equal aspect ratio ensures that pie is drawn as a circle.\n",
    "plt.show()\n"
   ]
  },
  {
   "cell_type": "code",
   "execution_count": null,
   "id": "e3ea1c3f",
   "metadata": {},
   "outputs": [],
   "source": []
  }
 ],
 "metadata": {
  "kernelspec": {
   "display_name": "Python 3 (ipykernel)",
   "language": "python",
   "name": "python3"
  },
  "language_info": {
   "codemirror_mode": {
    "name": "ipython",
    "version": 3
   },
   "file_extension": ".py",
   "mimetype": "text/x-python",
   "name": "python",
   "nbconvert_exporter": "python",
   "pygments_lexer": "ipython3",
   "version": "3.9.12"
  }
 },
 "nbformat": 4,
 "nbformat_minor": 5
}
